{
 "cells": [
  {
   "cell_type": "code",
   "execution_count": 1,
   "metadata": {},
   "outputs": [],
   "source": [
    "import pandas as pd\n",
    "import numpy as np\n",
    "import csv"
   ]
  },
  {
   "cell_type": "code",
   "execution_count": 37,
   "metadata": {},
   "outputs": [],
   "source": [
    "def load_data_frame():\n",
    "\n",
    "    with open(\"transport.csv\", \"r\", newline=\"\") as fp:\n",
    "        reader = csv.reader(fp, delimiter=\";\")\n",
    "        df = pd.DataFrame(reader)\n",
    "        df = df.drop(labels=[0,1], axis=0)\n",
    "        for i in range(11):\n",
    "            df = df.drop(labels=[316 + i], axis=0)\n",
    "        new_header = df.iloc[0]\n",
    "        df = df[1:]\n",
    "        df.columns = new_header\n",
    "        df = df.drop(labels=[\"_Svar-ID\", \"Resume-Code\", \"Start\", \"Dato og tid\", \"Deltagerstatus\"], axis=1)\n",
    "\n",
    "        return df"
   ]
  },
  {
   "cell_type": "code",
   "execution_count": 38,
   "metadata": {},
   "outputs": [],
   "source": [
    "def translate_data(df):\n",
    "\n",
    "    old_column_names = [\"1. Hvor gammel er du?\", \"2. Er du mand eller kvinde?\", \"3. Hvilken form for by bor du i?\", \"4. Hvad er din civil status?\",\n",
    "                        \"5. Har du hjemmeboende børn?\", \"6. Har du bil?\", \"7. Har du en cykel?\", \"8. Hvilken form for transport bruger du mest når du skal rundt i egen by?\",\n",
    "                        \"9. Hvilken form for transport bruger du mest når du skal ud for egen by?\", \"10. Hvor langt har du til arbejde?\",\n",
    "                        \"11. Hvilken form for transport bruger du mest til og fra arbejde?\", \"12. Hvor langt har du til skole?\",\n",
    "                        \"13. Hvilken form for transport bruger du mest til og fra skole?\", \"14. Har parkerings muligheder indflydelse på dit valg af transport?\",\n",
    "                        \"15. Hvis det er en solskinsdag - vælg det udsagn der passer bedst\", \"16. Hvis det er en regnvejrsdag - vælg det udsagn der passer bedst\"]\n",
    "\n",
    "    new_column_names = [\"Age\", \"Gender\", \"City\", \"Civil status\", \"Kids living at home\", \"Owns a car\", \"Owns a bike\", \"Kind of transport within own city\",\n",
    "                        \"Kind of transport outside own city\", \"Distance to work\", \"Transport to and from work\", \"Distance to school\", \"Transport to and from school\",\n",
    "                        \"Does parkings have an influence\", \"Statement on a shiny day\", \"Statement on a rainy day\"]\n",
    "\n",
    "    for i in range(len(new_column_names)):\n",
    "        df = df.rename(columns={old_column_names[i]:new_column_names[i]})\n",
    "\n",
    "    df['Gender'] = df['Gender'].map({'Mand': 'Male', 'Kvinde': 'Female'})\n",
    "    df['City'] = df['City'].map({'Forstad': 'Suburb', 'Storby': 'Big city', 'Landet': 'Country'})\n",
    "    df['Civil status'] = df['Civil status'].map({'Single': 'Single', 'I forhold': 'In relationship', 'Ved ikke': 'Dont know'})\n",
    "    df['Kids living at home'] = df['Kids living at home'].map({'ja': 'yes', 'nej': 'no'})\n",
    "    df['Owns a car'] = df['Owns a car'].map({'ja': 'yes', 'nej': 'no'})\n",
    "    df['Owns a bike'] = df['Owns a bike'].map({'ja': 'yes', 'nej': 'no'})\n",
    "    df['Kind of transport within own city'] = df['Kind of transport within own city'].map({'Bil': 'Car', 'Knallert': 'Moped', 'Cykel': 'Bike', 'Tog': 'Train',\n",
    "                                                                                           'Bus': 'Bus', 'Jeg går/løber': 'I walk/run', 'Andet': 'Other'})\n",
    "    df['Kind of transport outside own city'] = df['Kind of transport outside own city'].map({'Bil': 'Car', 'Knallert': 'Moped', 'Cykel': 'Bike', 'Tog': 'Train',\n",
    "                                                                                           'Bus': 'Bus', 'Jeg går/løber': 'I walk/run', 'Andet': 'Other'})\n",
    "    df['Distance to work'] = df['Distance to work'].map({'Under 1 km': 'Under 1 km', 'Mellem 1-5 km': 'Between 1-5 km', 'Mellem 5-15 km': 'Between 5-15 km',\n",
    "                                                         'Mellem 15-25 km': 'Between 15-25 km', 'Mellem 25-40 km': 'Between 25-40 km', 'Over 40 km': 'Over 40 km',\n",
    "                                                         'Jeg arbejdeder kun hjemmefra': 'I only work from home', 'Jeg har ikke noget arbejde': 'I dont have a job'})\n",
    "    df['Transport to and from work'] = df['Transport to and from work'].map({'Bil': 'Car', 'Knallert': 'Moped', 'Cykel': 'Bike', 'Tog': 'Train',\n",
    "                                                                                           'Bus': 'Bus', 'Jeg går/løber': 'I walk/run', 'Jeg har ikke noget arbejde':\n",
    "                                                                                 'I dont have a job', 'Andet': 'Other'})\n",
    "    df['Distance to school'] = df['Distance to school'].map({'Under 1 km': 'Under 1 km', 'Mellem 1-5 km': 'Between 1-5 km', 'Mellem 5-15 km': 'Between 5-15 km',\n",
    "                                                         'Mellem 15-25 km': 'Between 15-25 km', 'Mellem 25-40 km': 'Between 25-40 km', 'Over 40 km': 'Over 40 km',\n",
    "                                                        'Jeg går ikke i skole': 'I dont go to school'})\n",
    "    df['Transport to and from school'] = df['Transport to and from school'].map({'Bil': 'Car', 'Knallert': 'Moped', 'Cykel': 'Bike', 'Tog': 'Train',\n",
    "                                                                                           'Bus': 'Bus', 'Jeg går/løber': 'I walk/run', 'Jeg går ikke i skole':\n",
    "                                                                                 'I dont go to school', 'Andet': 'Other'})\n",
    "    df['Does parkings have an influence'] = df['Does parkings have an influence'].map({'Ja': 'yes', 'Nej': 'no', 'Ved ikke': 'Dont know'})\n",
    "\n",
    "    df['Statement on a shiny day'] = df['Statement on a shiny day'].map({'Jeg går eller cykler altid hvis afstanden passer til det': 'Walk/bike alwas if the weather fits',\n",
    "                                                                         'Jeg går eller cykler en gang imellem hvis afstanden passer til det': 'Walk/bike sometimes if the weather fits',\n",
    "                                                                         'Jeg går eller cykler sjældent også selvom afstanden passer til det': 'Walk/bike rarely even if the weather fits',\n",
    "                                                                         'Jeg tager stort set altid tog, bus eller bil': 'Always train, bus or car',\n",
    "                                                                         'Ved ikke': 'Dont know'})\n",
    "    df['Statement on a rainy day'] = df['Statement on a rainy day'].map({'Jeg går eller cykler altid hvis afstanden passer til det': 'Walk/bike alwas if the weather fits',\n",
    "                                                                         'Jeg går eller cykler en gang imellem hvis afstanden passer til det': 'Walk/bike sometimes if the weather fits',\n",
    "                                                                         'Jeg går eller cykler sjældent også selvom afstanden passer til det': 'Walk/bike rarely even if the weather fits',\n",
    "                                                                         'Jeg tager stort set altid tog, bus eller bil': 'Always train, bus or car',\n",
    "                                                                         'Ved ikke': 'Dont know'})\n",
    "    \n",
    "    return df"
   ]
  },
  {
   "cell_type": "code",
   "execution_count": 39,
   "metadata": {},
   "outputs": [],
   "source": [
    "def main():\n",
    "\n",
    "    df = load_data_frame()\n",
    "    df = translate_data(df)\n",
    "    \n",
    "    return df"
   ]
  },
  {
   "cell_type": "code",
   "execution_count": 42,
   "metadata": {},
   "outputs": [
    {
     "data": {
      "text/plain": [
       "no     178\n",
       "yes    135\n",
       "Name: Kids living at home, dtype: int64"
      ]
     },
     "execution_count": 42,
     "metadata": {},
     "output_type": "execute_result"
    }
   ],
   "source": [
    "if __name__ == '__main__':\n",
    "    df = main()\n",
    "pd.set_option('max_row', None)\n",
    "df = df['Kids living at home'].value_counts()\n",
    "df"
   ]
  },
  {
   "cell_type": "code",
   "execution_count": null,
   "metadata": {},
   "outputs": [],
   "source": []
  },
  {
   "cell_type": "code",
   "execution_count": null,
   "metadata": {},
   "outputs": [],
   "source": []
  }
 ],
 "metadata": {
  "kernelspec": {
   "display_name": "Python 3",
   "language": "python",
   "name": "python3"
  },
  "language_info": {
   "codemirror_mode": {
    "name": "ipython",
    "version": 3
   },
   "file_extension": ".py",
   "mimetype": "text/x-python",
   "name": "python",
   "nbconvert_exporter": "python",
   "pygments_lexer": "ipython3",
   "version": "3.7.4"
  }
 },
 "nbformat": 4,
 "nbformat_minor": 4
}
